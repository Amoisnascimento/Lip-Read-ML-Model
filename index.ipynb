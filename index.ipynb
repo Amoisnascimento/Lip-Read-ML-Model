{
 "cells": [
  {
   "cell_type": "code",
   "execution_count": 1,
   "metadata": {},
   "outputs": [],
   "source": [
    "import os\n",
    "import cv2\n",
    "import tensorflow as tf\n",
    "from typing import List\n",
    "from matplotlib import pyplot as plt\n",
    "import imageio"
   ]
  },
  {
   "cell_type": "code",
   "execution_count": 2,
   "metadata": {},
   "outputs": [],
   "source": [
    "# prevent exponentional memory growth\n",
    "physical_devices = tf.config.list_logical_devices('GPU')\n",
    "try:\n",
    "    tf.config.experimental.set_memory_growth(physical_devices[0],True)\n",
    "except:\n",
    "    pass"
   ]
  },
  {
   "cell_type": "code",
   "execution_count": null,
   "metadata": {},
   "outputs": [],
   "source": [
    "# two build functions one for image and one for dataset\n",
    "import gdown\n",
    "\n",
    "url = \"https://drive.google.com/uc?id=1YlvpDLix3S-U8fd-gqRwPcWXAXm8JwjL\"\n",
    "output = 'data.zip'\n",
    "gdown.download(url,output, quiet=False)\n",
    "gdown.extractall('data.zip')"
   ]
  },
  {
   "cell_type": "code",
   "execution_count": 3,
   "metadata": {},
   "outputs": [],
   "source": [
    "def load_video(path:str) -> List[float]:\n",
    "    cap = cv2.VideoCapture(path)\n",
    "    frames = []\n",
    "    for _ in range(int(cap.get(cv2.CAP_PROP_FRAME_COUNT))):\n",
    "        ret, frame = cap.read()\n",
    "        frame = tf.image.rgb_to_grayscale(frame)\n",
    "        frames.append(frame[190:236,80:220,:])\n",
    "    cap.release()\n",
    "\n",
    "    mean = tf.math.reduce_mean(frames)\n",
    "    std = tf.math.reduce_std(tf.cast(frames, tf.float32))\n",
    "    return tf.cast((frames - mean),tf.float32)/std\n"
   ]
  },
  {
   "cell_type": "code",
   "execution_count": 4,
   "metadata": {},
   "outputs": [],
   "source": [
    "vocab = [x for x in \"abcdefghijklmnopqrstuvwxyz'?!1234567890\"]"
   ]
  },
  {
   "cell_type": "code",
   "execution_count": 5,
   "metadata": {},
   "outputs": [
    {
     "name": "stdout",
     "output_type": "stream",
     "text": [
      "The vocabulary is: ['', 'a', 'b', 'c', 'd', 'e', 'f', 'g', 'h', 'i', 'j', 'k', 'l', 'm', 'n', 'o', 'p', 'q', 'r', 's', 't', 'u', 'v', 'w', 'x', 'y', 'z', \"'\", '?', '!', '1', '2', '3', '4', '5', '6', '7', '8', '9', '0'](size=40)\n"
     ]
    }
   ],
   "source": [
    "char_to_num = tf.keras.layers.StringLookup(vocabulary=vocab, oov_token=\"\")\n",
    "num_to_char = tf.keras.layers.StringLookup(\n",
    "    vocabulary=char_to_num.get_vocabulary(), oov_token=\"\",invert=True\n",
    ")\n",
    "\n",
    "print(\n",
    "    f\"The vocabulary is: {char_to_num.get_vocabulary()}\"\n",
    "    f\"(size={char_to_num.vocabulary_size()})\"\n",
    ")"
   ]
  },
  {
   "cell_type": "code",
   "execution_count": 6,
   "metadata": {},
   "outputs": [],
   "source": [
    "def load_alignments(path:str) -> List[str]:\n",
    "    with open(path,'r') as f:\n",
    "        lines = f.readlines()\n",
    "    tokens = []\n",
    "    for line in lines:\n",
    "        line = line.split()\n",
    "        if line[2] != 'sil':\n",
    "            tokens = [*tokens,' ',line[2]]\n",
    "    return char_to_num(tf.reshape(tf.strings.unicode_split(tokens,input_encoding='UTF-8'),(-1)))[1:]"
   ]
  },
  {
   "cell_type": "code",
   "execution_count": 7,
   "metadata": {},
   "outputs": [],
   "source": [
    "def load_data(path: str):\n",
    "    path = bytes.decode(path.numpy())\n",
    "    file_name = path.split('\\\\')[-1].split('.')[0]\n",
    "    video_path = os.path.join('data','s1',f'{file_name}.mpg')\n",
    "    alignment_path = os.path.join('data','alignments','s1',f'{file_name}.align')\n",
    "    frames = load_video(video_path)\n",
    "    alignments = load_alignments(alignment_path)\n",
    "\n",
    "    return frames,alignments"
   ]
  },
  {
   "cell_type": "code",
   "execution_count": 8,
   "metadata": {},
   "outputs": [],
   "source": [
    "test_path = '.\\\\data\\\\s1\\\\bbal6n.mpg'"
   ]
  },
  {
   "cell_type": "code",
   "execution_count": 9,
   "metadata": {},
   "outputs": [
    {
     "data": {
      "text/plain": [
       "'.\\\\data\\\\s1\\\\bbal6n.mpg'"
      ]
     },
     "execution_count": 9,
     "metadata": {},
     "output_type": "execute_result"
    }
   ],
   "source": [
    "tf.convert_to_tensor(test_path).numpy().decode('utf-8')"
   ]
  },
  {
   "cell_type": "code",
   "execution_count": 10,
   "metadata": {},
   "outputs": [],
   "source": [
    "frames,alignments = load_data(tf.convert_to_tensor(test_path))"
   ]
  },
  {
   "cell_type": "code",
   "execution_count": 11,
   "metadata": {},
   "outputs": [
    {
     "name": "stdout",
     "output_type": "stream",
     "text": [
      "tf.Tensor(\n",
      "[[[1.4603739 ]\n",
      "  [1.4603739 ]\n",
      "  [1.4209043 ]\n",
      "  ...\n",
      "  [0.15787826]\n",
      "  [0.19734782]\n",
      "  [0.07893913]]\n",
      "\n",
      " [[1.4603739 ]\n",
      "  [1.4603739 ]\n",
      "  [1.4209043 ]\n",
      "  ...\n",
      "  [0.15787826]\n",
      "  [0.07893913]\n",
      "  [0.03946957]]\n",
      "\n",
      " [[1.4209043 ]\n",
      "  [1.4209043 ]\n",
      "  [1.3814348 ]\n",
      "  ...\n",
      "  [0.07893913]\n",
      "  [0.07893913]\n",
      "  [0.07893913]]\n",
      "\n",
      " ...\n",
      "\n",
      " [[0.94726956]\n",
      "  [0.94726956]\n",
      "  [0.94726956]\n",
      "  ...\n",
      "  [9.94633   ]\n",
      "  [9.867392  ]\n",
      "  [9.867392  ]]\n",
      "\n",
      " [[0.94726956]\n",
      "  [0.94726956]\n",
      "  [0.94726956]\n",
      "  ...\n",
      "  [9.90686   ]\n",
      "  [9.867392  ]\n",
      "  [9.867392  ]]\n",
      "\n",
      " [[0.94726956]\n",
      "  [0.94726956]\n",
      "  [0.94726956]\n",
      "  ...\n",
      "  [9.90686   ]\n",
      "  [9.867392  ]\n",
      "  [9.867392  ]]], shape=(46, 140, 1), dtype=float32)\n"
     ]
    },
    {
     "data": {
      "image/png": "[encoded data removed]",
      "text/plain": [
       "<Figure size 640x480 with 1 Axes>"
      ]
     },
     "metadata": {},
     "output_type": "display_data"
    }
   ],
   "source": [
    "plt.imshow(frames[0])\n",
    "print(frames[0])"
   ]
  },
  {
   "cell_type": "code",
   "execution_count": 12,
   "metadata": {},
   "outputs": [
    {
     "data": {
      "text/plain": [
       "'binblueatlsixnow'"
      ]
     },
     "execution_count": 12,
     "metadata": {},
     "output_type": "execute_result"
    }
   ],
   "source": [
    "bytes.decode(tf.strings.reduce_join([x for x in num_to_char(alignments)]).numpy())"
   ]
  },
  {
   "cell_type": "code",
   "execution_count": 13,
   "metadata": {},
   "outputs": [],
   "source": [
    "# helps use to get data from file name\n",
    "def mappable_function(path:str) -> List[str]:\n",
    "    result = tf.py_function(load_data, [path],(tf.float32,tf.int64))\n",
    "    return result"
   ]
  },
  {
   "cell_type": "code",
   "execution_count": 14,
   "metadata": {},
   "outputs": [],
   "source": [
    "#make a datapipeline\n",
    "\n",
    "data = tf.data.Dataset.list_files('./data/s1/*.mpg')\n",
    "data = data.shuffle(500,reshuffle_each_iteration=False)\n",
    "data = data.map(mappable_function)\n",
    "data = data.padded_batch(2,padded_shapes=([75,None,None,None],[40]))\n",
    "data = data.prefetch(tf.data.AUTOTUNE)\n",
    "\n",
    "train = data.take(450)\n",
    "test = data.skip(450)"
   ]
  },
  {
   "cell_type": "code",
   "execution_count": 15,
   "metadata": {},
   "outputs": [],
   "source": [
    "frames, alignments = data.as_numpy_iterator().next()"
   ]
  },
  {
   "cell_type": "code",
   "execution_count": 16,
   "metadata": {},
   "outputs": [
    {
     "data": {
      "text/plain": [
       "array([[16, 12,  1,  3,  5,  0, 18,  5,  4,  0,  9, 14,  0, 16,  0, 20,\n",
       "        23, 15,  0, 16, 12,  5,  1, 19,  5,  0,  0,  0,  0,  0,  0,  0,\n",
       "         0,  0,  0,  0,  0,  0,  0,  0],\n",
       "       [19,  5, 20,  0, 18,  5,  4,  0,  9, 14,  0,  8,  0, 26,  5, 18,\n",
       "        15,  0, 14, 15, 23,  0,  0,  0,  0,  0,  0,  0,  0,  0,  0,  0,\n",
       "         0,  0,  0,  0,  0,  0,  0,  0]], dtype=int64)"
      ]
     },
     "execution_count": 16,
     "metadata": {},
     "output_type": "execute_result"
    }
   ],
   "source": [
    "alignments"
   ]
  },
  {
   "cell_type": "code",
   "execution_count": 17,
   "metadata": {},
   "outputs": [
    {
     "data": {
      "text/plain": [
       "2"
      ]
     },
     "execution_count": 17,
     "metadata": {},
     "output_type": "execute_result"
    }
   ],
   "source": [
    "len(frames)"
   ]
  },
  {
   "cell_type": "code",
   "execution_count": 18,
   "metadata": {},
   "outputs": [],
   "source": [
    "test = data.as_numpy_iterator()"
   ]
  },
  {
   "cell_type": "code",
   "execution_count": 19,
   "metadata": {},
   "outputs": [
    {
     "data": {
      "text/plain": [
       "array([[[[ 1.4027374 ],\n",
       "         [ 1.4027374 ],\n",
       "         [ 1.4027374 ],\n",
       "         ...,\n",
       "         [ 0.04125698],\n",
       "         [ 0.04125698],\n",
       "         [ 0.04125698]],\n",
       "\n",
       "        [[ 1.4027374 ],\n",
       "         [ 1.4027374 ],\n",
       "         [ 1.4027374 ],\n",
       "         ...,\n",
       "         [ 0.04125698],\n",
       "         [ 0.04125698],\n",
       "         [ 0.04125698]],\n",
       "\n",
       "        [[ 1.3202235 ],\n",
       "         [ 1.3202235 ],\n",
       "         [ 1.3202235 ],\n",
       "         ...,\n",
       "         [ 0.04125698],\n",
       "         [ 0.04125698],\n",
       "         [ 0.04125698]],\n",
       "\n",
       "        ...,\n",
       "\n",
       "        [[ 1.0314245 ],\n",
       "         [ 1.0314245 ],\n",
       "         [ 0.99016756],\n",
       "         ...,\n",
       "         [10.314245  ],\n",
       "         [10.272988  ],\n",
       "         [10.272988  ]],\n",
       "\n",
       "        [[ 1.0314245 ],\n",
       "         [ 1.0314245 ],\n",
       "         [ 0.99016756],\n",
       "         ...,\n",
       "         [10.272988  ],\n",
       "         [10.231731  ],\n",
       "         [10.231731  ]],\n",
       "\n",
       "        [[ 1.0314245 ],\n",
       "         [ 1.0314245 ],\n",
       "         [ 0.99016756],\n",
       "         ...,\n",
       "         [10.272988  ],\n",
       "         [10.231731  ],\n",
       "         [10.231731  ]]],\n",
       "\n",
       "\n",
       "       [[[ 1.3614805 ],\n",
       "         [ 1.3614805 ],\n",
       "         [ 1.3614805 ],\n",
       "         ...,\n",
       "         [ 0.        ],\n",
       "         [ 0.04125698],\n",
       "         [ 0.04125698]],\n",
       "\n",
       "        [[ 1.3614805 ],\n",
       "         [ 1.3614805 ],\n",
       "         [ 1.3614805 ],\n",
       "         ...,\n",
       "         [ 0.        ],\n",
       "         [ 0.04125698],\n",
       "         [ 0.04125698]],\n",
       "\n",
       "        [[ 1.3202235 ],\n",
       "         [ 1.3202235 ],\n",
       "         [ 1.3202235 ],\n",
       "         ...,\n",
       "         [ 0.        ],\n",
       "         [ 0.        ],\n",
       "         [ 0.        ]],\n",
       "\n",
       "        ...,\n",
       "\n",
       "        [[ 0.99016756],\n",
       "         [ 0.99016756],\n",
       "         [ 0.9489106 ],\n",
       "         ...,\n",
       "         [10.272988  ],\n",
       "         [10.231731  ],\n",
       "         [10.231731  ]],\n",
       "\n",
       "        [[ 0.99016756],\n",
       "         [ 0.99016756],\n",
       "         [ 0.9489106 ],\n",
       "         ...,\n",
       "         [10.272988  ],\n",
       "         [10.231731  ],\n",
       "         [10.231731  ]],\n",
       "\n",
       "        [[ 0.99016756],\n",
       "         [ 0.99016756],\n",
       "         [ 0.9489106 ],\n",
       "         ...,\n",
       "         [10.272988  ],\n",
       "         [10.231731  ],\n",
       "         [10.231731  ]]],\n",
       "\n",
       "\n",
       "       [[[ 1.4027374 ],\n",
       "         [ 1.4027374 ],\n",
       "         [ 1.4027374 ],\n",
       "         ...,\n",
       "         [ 0.        ],\n",
       "         [ 0.04125698],\n",
       "         [ 0.04125698]],\n",
       "\n",
       "        [[ 1.4027374 ],\n",
       "         [ 1.4027374 ],\n",
       "         [ 1.4027374 ],\n",
       "         ...,\n",
       "         [ 0.        ],\n",
       "         [ 0.04125698],\n",
       "         [ 0.04125698]],\n",
       "\n",
       "        [[ 1.4027374 ],\n",
       "         [ 1.4027374 ],\n",
       "         [ 1.4027374 ],\n",
       "         ...,\n",
       "         [10.520531  ],\n",
       "         [10.520531  ],\n",
       "         [10.520531  ]],\n",
       "\n",
       "        ...,\n",
       "\n",
       "        [[ 0.99016756],\n",
       "         [ 0.99016756],\n",
       "         [ 0.9489106 ],\n",
       "         ...,\n",
       "         [10.272988  ],\n",
       "         [10.231731  ],\n",
       "         [10.231731  ]],\n",
       "\n",
       "        [[ 0.99016756],\n",
       "         [ 0.99016756],\n",
       "         [ 0.9489106 ],\n",
       "         ...,\n",
       "         [10.272988  ],\n",
       "         [10.231731  ],\n",
       "         [10.231731  ]],\n",
       "\n",
       "        [[ 0.99016756],\n",
       "         [ 0.99016756],\n",
       "         [ 0.9489106 ],\n",
       "         ...,\n",
       "         [10.272988  ],\n",
       "         [10.231731  ],\n",
       "         [10.231731  ]]],\n",
       "\n",
       "\n",
       "       ...,\n",
       "\n",
       "\n",
       "       [[[ 1.4027374 ],\n",
       "         [ 1.4027374 ],\n",
       "         [ 1.4439944 ],\n",
       "         ...,\n",
       "         [ 0.        ],\n",
       "         [ 0.04125698],\n",
       "         [ 0.04125698]],\n",
       "\n",
       "        [[ 1.4027374 ],\n",
       "         [ 1.4027374 ],\n",
       "         [ 1.4439944 ],\n",
       "         ...,\n",
       "         [ 0.        ],\n",
       "         [ 0.04125698],\n",
       "         [ 0.04125698]],\n",
       "\n",
       "        [[ 1.4027374 ],\n",
       "         [ 1.4027374 ],\n",
       "         [ 1.4027374 ],\n",
       "         ...,\n",
       "         [10.520531  ],\n",
       "         [ 0.        ],\n",
       "         [ 0.        ]],\n",
       "\n",
       "        ...,\n",
       "\n",
       "        [[ 0.99016756],\n",
       "         [ 0.99016756],\n",
       "         [ 0.99016756],\n",
       "         ...,\n",
       "         [10.231731  ],\n",
       "         [10.231731  ],\n",
       "         [10.231731  ]],\n",
       "\n",
       "        [[ 0.99016756],\n",
       "         [ 0.99016756],\n",
       "         [ 0.99016756],\n",
       "         ...,\n",
       "         [10.231731  ],\n",
       "         [10.231731  ],\n",
       "         [10.231731  ]],\n",
       "\n",
       "        [[ 0.99016756],\n",
       "         [ 0.99016756],\n",
       "         [ 0.9489106 ],\n",
       "         ...,\n",
       "         [10.231731  ],\n",
       "         [10.231731  ],\n",
       "         [10.231731  ]]],\n",
       "\n",
       "\n",
       "       [[[ 1.4439944 ],\n",
       "         [ 1.4439944 ],\n",
       "         [ 1.4852514 ],\n",
       "         ...,\n",
       "         [ 0.04125698],\n",
       "         [ 0.04125698],\n",
       "         [ 0.04125698]],\n",
       "\n",
       "        [[ 1.4439944 ],\n",
       "         [ 1.4439944 ],\n",
       "         [ 1.4852514 ],\n",
       "         ...,\n",
       "         [ 0.04125698],\n",
       "         [ 0.04125698],\n",
       "         [ 0.04125698]],\n",
       "\n",
       "        [[ 1.4027374 ],\n",
       "         [ 1.4027374 ],\n",
       "         [ 1.4027374 ],\n",
       "         ...,\n",
       "         [10.520531  ],\n",
       "         [ 0.        ],\n",
       "         [ 0.        ]],\n",
       "\n",
       "        ...,\n",
       "\n",
       "        [[ 0.99016756],\n",
       "         [ 0.99016756],\n",
       "         [ 0.99016756],\n",
       "         ...,\n",
       "         [10.231731  ],\n",
       "         [10.231731  ],\n",
       "         [10.231731  ]],\n",
       "\n",
       "        [[ 0.99016756],\n",
       "         [ 0.99016756],\n",
       "         [ 0.9489106 ],\n",
       "         ...,\n",
       "         [10.231731  ],\n",
       "         [10.231731  ],\n",
       "         [10.231731  ]],\n",
       "\n",
       "        [[ 0.99016756],\n",
       "         [ 0.9489106 ],\n",
       "         [ 0.9489106 ],\n",
       "         ...,\n",
       "         [10.231731  ],\n",
       "         [10.231731  ],\n",
       "         [10.231731  ]]],\n",
       "\n",
       "\n",
       "       [[[ 1.4439944 ],\n",
       "         [ 1.4439944 ],\n",
       "         [ 1.4852514 ],\n",
       "         ...,\n",
       "         [10.520531  ],\n",
       "         [ 0.        ],\n",
       "         [ 0.        ]],\n",
       "\n",
       "        [[ 1.4439944 ],\n",
       "         [ 1.4439944 ],\n",
       "         [ 1.4852514 ],\n",
       "         ...,\n",
       "         [10.520531  ],\n",
       "         [ 0.        ],\n",
       "         [ 0.        ]],\n",
       "\n",
       "        [[ 1.4027374 ],\n",
       "         [ 1.4027374 ],\n",
       "         [ 1.4027374 ],\n",
       "         ...,\n",
       "         [10.520531  ],\n",
       "         [10.520531  ],\n",
       "         [10.520531  ]],\n",
       "\n",
       "        ...,\n",
       "\n",
       "        [[ 1.0726815 ],\n",
       "         [ 1.0726815 ],\n",
       "         [ 1.0726815 ],\n",
       "         ...,\n",
       "         [10.231731  ],\n",
       "         [10.231731  ],\n",
       "         [10.231731  ]],\n",
       "\n",
       "        [[ 0.99016756],\n",
       "         [ 0.99016756],\n",
       "         [ 0.99016756],\n",
       "         ...,\n",
       "         [10.231731  ],\n",
       "         [10.231731  ],\n",
       "         [10.231731  ]],\n",
       "\n",
       "        [[ 0.99016756],\n",
       "         [ 0.99016756],\n",
       "         [ 0.99016756],\n",
       "         ...,\n",
       "         [10.231731  ],\n",
       "         [10.231731  ],\n",
       "         [10.231731  ]]]], dtype=float32)"
      ]
     },
     "execution_count": 19,
     "metadata": {},
     "output_type": "execute_result"
    }
   ],
   "source": [
    "val = test.next(); \n",
    "val[0][1]"
   ]
  },
  {
   "cell_type": "code",
   "execution_count": 20,
   "metadata": {},
   "outputs": [
    {
     "ename": "TypeError",
     "evalue": "Cannot handle this data type: (1, 1, 1), <f4",
     "output_type": "error",
     "traceback": [
      "\u001b[1;31m---------------------------------------------------------------------------\u001b[0m",
      "\u001b[1;31mKeyError\u001b[0m                                  Traceback (most recent call last)",
      "File \u001b[1;32m~\\AppData\\Local\\Packages\\PythonSoftwareFoundation.Python.3.10_qbz5n2kfra8p0\\LocalCache\\local-packages\\Python310\\site-packages\\PIL\\Image.py:3089\u001b[0m, in \u001b[0;36mfromarray\u001b[1;34m(obj, mode)\u001b[0m\n\u001b[0;32m   3088\u001b[0m \u001b[39mtry\u001b[39;00m:\n\u001b[1;32m-> 3089\u001b[0m     mode, rawmode \u001b[39m=\u001b[39m _fromarray_typemap[typekey]\n\u001b[0;32m   3090\u001b[0m \u001b[39mexcept\u001b[39;00m \u001b[39mKeyError\u001b[39;00m \u001b[39mas\u001b[39;00m e:\n",
      "\u001b[1;31mKeyError\u001b[0m: ((1, 1, 1), '<f4')",
      "\nThe above exception was the direct cause of the following exception:\n",
      "\u001b[1;31mTypeError\u001b[0m                                 Traceback (most recent call last)",
      "Cell \u001b[1;32mIn[20], line 1\u001b[0m\n\u001b[1;32m----> 1\u001b[0m imageio\u001b[39m.\u001b[39;49mv3\u001b[39m.\u001b[39;49mimwrite(\u001b[39m'\u001b[39;49m\u001b[39m./animation.gif\u001b[39;49m\u001b[39m'\u001b[39;49m,val[\u001b[39m0\u001b[39;49m][\u001b[39m0\u001b[39;49m])\n",
      "File \u001b[1;32m~\\AppData\\Local\\Packages\\PythonSoftwareFoundation.Python.3.10_qbz5n2kfra8p0\\LocalCache\\local-packages\\Python310\\site-packages\\imageio\\v3.py:147\u001b[0m, in \u001b[0;36mimwrite\u001b[1;34m(uri, image, plugin, extension, format_hint, **kwargs)\u001b[0m\n\u001b[0;32m    105\u001b[0m \u001b[39m\u001b[39m\u001b[39m\"\"\"Write an ndimage to the given URI.\u001b[39;00m\n\u001b[0;32m    106\u001b[0m \n\u001b[0;32m    107\u001b[0m \u001b[39mThe exact behavior depends on the file type and plugin used. To learn about\u001b[39;00m\n\u001b[1;32m   (...)\u001b[0m\n\u001b[0;32m    136\u001b[0m \n\u001b[0;32m    137\u001b[0m \u001b[39m\"\"\"\u001b[39;00m\n\u001b[0;32m    139\u001b[0m \u001b[39mwith\u001b[39;00m imopen(\n\u001b[0;32m    140\u001b[0m     uri,\n\u001b[0;32m    141\u001b[0m     \u001b[39m\"\u001b[39m\u001b[39mw\u001b[39m\u001b[39m\"\u001b[39m,\n\u001b[1;32m   (...)\u001b[0m\n\u001b[0;32m    145\u001b[0m     extension\u001b[39m=\u001b[39mextension,\n\u001b[0;32m    146\u001b[0m ) \u001b[39mas\u001b[39;00m img_file:\n\u001b[1;32m--> 147\u001b[0m     encoded \u001b[39m=\u001b[39m img_file\u001b[39m.\u001b[39mwrite(image, \u001b[39m*\u001b[39m\u001b[39m*\u001b[39mkwargs)\n\u001b[0;32m    149\u001b[0m \u001b[39mreturn\u001b[39;00m encoded\n",
      "File \u001b[1;32m~\\AppData\\Local\\Packages\\PythonSoftwareFoundation.Python.3.10_qbz5n2kfra8p0\\LocalCache\\local-packages\\Python310\\site-packages\\imageio\\plugins\\pillow.py:416\u001b[0m, in \u001b[0;36mPillowPlugin.write\u001b[1;34m(self, ndimage, mode, format, is_batch, **kwargs)\u001b[0m\n\u001b[0;32m    413\u001b[0m     ndimage \u001b[39m=\u001b[39m ndimage[\u001b[39mNone\u001b[39;00m, \u001b[39m.\u001b[39m\u001b[39m.\u001b[39m\u001b[39m.\u001b[39m]\n\u001b[0;32m    415\u001b[0m \u001b[39mfor\u001b[39;00m frame \u001b[39min\u001b[39;00m ndimage:\n\u001b[1;32m--> 416\u001b[0m     pil_frame \u001b[39m=\u001b[39m Image\u001b[39m.\u001b[39;49mfromarray(frame, mode\u001b[39m=\u001b[39;49mmode)\n\u001b[0;32m    417\u001b[0m     \u001b[39mif\u001b[39;00m \u001b[39m\"\u001b[39m\u001b[39mbits\u001b[39m\u001b[39m\"\u001b[39m \u001b[39min\u001b[39;00m kwargs:\n\u001b[0;32m    418\u001b[0m         pil_frame \u001b[39m=\u001b[39m pil_frame\u001b[39m.\u001b[39mquantize(colors\u001b[39m=\u001b[39m\u001b[39m2\u001b[39m \u001b[39m*\u001b[39m\u001b[39m*\u001b[39m kwargs[\u001b[39m\"\u001b[39m\u001b[39mbits\u001b[39m\u001b[39m\"\u001b[39m])\n",
      "File \u001b[1;32m~\\AppData\\Local\\Packages\\PythonSoftwareFoundation.Python.3.10_qbz5n2kfra8p0\\LocalCache\\local-packages\\Python310\\site-packages\\PIL\\Image.py:3092\u001b[0m, in \u001b[0;36mfromarray\u001b[1;34m(obj, mode)\u001b[0m\n\u001b[0;32m   3090\u001b[0m     \u001b[39mexcept\u001b[39;00m \u001b[39mKeyError\u001b[39;00m \u001b[39mas\u001b[39;00m e:\n\u001b[0;32m   3091\u001b[0m         msg \u001b[39m=\u001b[39m \u001b[39m\"\u001b[39m\u001b[39mCannot handle this data type: \u001b[39m\u001b[39m%s\u001b[39;00m\u001b[39m, \u001b[39m\u001b[39m%s\u001b[39;00m\u001b[39m\"\u001b[39m \u001b[39m%\u001b[39m typekey\n\u001b[1;32m-> 3092\u001b[0m         \u001b[39mraise\u001b[39;00m \u001b[39mTypeError\u001b[39;00m(msg) \u001b[39mfrom\u001b[39;00m \u001b[39me\u001b[39;00m\n\u001b[0;32m   3093\u001b[0m \u001b[39melse\u001b[39;00m:\n\u001b[0;32m   3094\u001b[0m     rawmode \u001b[39m=\u001b[39m mode\n",
      "\u001b[1;31mTypeError\u001b[0m: Cannot handle this data type: (1, 1, 1), <f4"
     ]
    }
   ],
   "source": [
    "imageio.v3.imwrite('./animation.gif',val[0][0])"
   ]
  },
  {
   "cell_type": "code",
   "execution_count": 21,
   "metadata": {},
   "outputs": [
    {
     "data": {
      "text/plain": [
       "<matplotlib.image.AxesImage at 0x204015972b0>"
      ]
     },
     "execution_count": 21,
     "metadata": {},
     "output_type": "execute_result"
    },
    {
     "data": {
      "image/png": "[encoded data removed]",
      "text/plain": [
       "<Figure size 640x480 with 1 Axes>"
      ]
     },
     "metadata": {},
     "output_type": "display_data"
    }
   ],
   "source": [
    "plt.imshow(val[0][0][30])"
   ]
  },
  {
   "cell_type": "code",
   "execution_count": 22,
   "metadata": {},
   "outputs": [
    {
     "data": {
      "text/plain": [
       "<tf.Tensor: shape=(), dtype=string, numpy=b'setgreenbycnineagain'>"
      ]
     },
     "execution_count": 22,
     "metadata": {},
     "output_type": "execute_result"
    }
   ],
   "source": [
    "tf.strings.reduce_join([num_to_char(word) for word in val[1][1]])"
   ]
  },
  {
   "cell_type": "code",
   "execution_count": 23,
   "metadata": {},
   "outputs": [],
   "source": [
    "from tensorflow.keras.models import Sequential\n",
    "from tensorflow.keras.layers import Conv3D,LSTM,Dense,Dropout,Bidirectional, MaxPool3D,Reshape,SpatialDropout3D,BatchNormalization,TimeDistributed,Flatten,Activation\n",
    "from tensorflow.keras.optimizers import Adam\n",
    "from tensorflow.keras.callbacks import ModelCheckpoint, LearningRateScheduler"
   ]
  },
  {
   "cell_type": "code",
   "execution_count": 24,
   "metadata": {},
   "outputs": [],
   "source": [
    "model = Sequential()\n",
    "model.add(Conv3D(128,3,input_shape=(75,46,140,1),padding='same'))\n",
    "model.add(Activation('relu'))\n",
    "model.add(MaxPool3D((1,2,2)))\n",
    "\n",
    "model.add(Conv3D(256,3,padding='same'))\n",
    "model.add(Activation('relu'))\n",
    "model.add(MaxPool3D((1,2,2)))\n",
    "\n",
    "model.add(Conv3D(75,3,padding='same'))\n",
    "model.add(Activation('relu'))\n",
    "model.add(MaxPool3D((1,2,2)))\n",
    "\n",
    "model.add(TimeDistributed(Flatten()))\n",
    "\n",
    "model.add(Bidirectional(LSTM(128, kernel_initializer='Orthogonal',return_sequences=True)))\n",
    "model.add(Dropout(.5))\n",
    "\n",
    "model.add(Bidirectional(LSTM(128, kernel_initializer='Orthogonal',return_sequences=True)))\n",
    "model.add(Dropout(.5))\n",
    "\n",
    "model.add(Dense(char_to_num.vocabulary_size()+1, kernel_initializer='he_normal',activation='softmax'))"
   ]
  },
  {
   "cell_type": "code",
   "execution_count": 25,
   "metadata": {},
   "outputs": [
    {
     "name": "stdout",
     "output_type": "stream",
     "text": [
      "Model: \"sequential\"\n",
      "_________________________________________________________________\n",
      " Layer (type)                Output Shape              Param #   \n",
      "=================================================================\n",
      " conv3d (Conv3D)             (None, 75, 46, 140, 128)  3584      \n",
      "                                                                 \n",
      " activation (Activation)     (None, 75, 46, 140, 128)  0         \n",
      "                                                                 \n",
      " max_pooling3d (MaxPooling3D  (None, 75, 23, 70, 128)  0         \n",
      " )                                                               \n",
      "                                                                 \n",
      " conv3d_1 (Conv3D)           (None, 75, 23, 70, 256)   884992    \n",
      "                                                                 \n",
      " activation_1 (Activation)   (None, 75, 23, 70, 256)   0         \n",
      "                                                                 \n",
      " max_pooling3d_1 (MaxPooling  (None, 75, 11, 35, 256)  0         \n",
      " 3D)                                                             \n",
      "                                                                 \n",
      " conv3d_2 (Conv3D)           (None, 75, 11, 35, 75)    518475    \n",
      "                                                                 \n",
      " activation_2 (Activation)   (None, 75, 11, 35, 75)    0         \n",
      "                                                                 \n",
      " max_pooling3d_2 (MaxPooling  (None, 75, 5, 17, 75)    0         \n",
      " 3D)                                                             \n",
      "                                                                 \n",
      " time_distributed (TimeDistr  (None, 75, 6375)         0         \n",
      " ibuted)                                                         \n",
      "                                                                 \n",
      " bidirectional (Bidirectiona  (None, 75, 256)          6660096   \n",
      " l)                                                              \n",
      "                                                                 \n",
      " dropout (Dropout)           (None, 75, 256)           0         \n",
      "                                                                 \n",
      " bidirectional_1 (Bidirectio  (None, 75, 256)          394240    \n",
      " nal)                                                            \n",
      "                                                                 \n",
      " dropout_1 (Dropout)         (None, 75, 256)           0         \n",
      "                                                                 \n",
      " dense (Dense)               (None, 75, 41)            10537     \n",
      "                                                                 \n",
      "=================================================================\n",
      "Total params: 8,471,924\n",
      "Trainable params: 8,471,924\n",
      "Non-trainable params: 0\n",
      "_________________________________________________________________\n",
      "None\n"
     ]
    }
   ],
   "source": [
    "print(model.summary())"
   ]
  },
  {
   "cell_type": "code",
   "execution_count": 26,
   "metadata": {},
   "outputs": [
    {
     "name": "stdout",
     "output_type": "stream",
     "text": [
      "1/1 [==============================] - 20s 20s/step\n"
     ]
    }
   ],
   "source": [
    "# test prediction\n",
    "yhat = model.predict(val[0])"
   ]
  },
  {
   "cell_type": "code",
   "execution_count": 27,
   "metadata": {},
   "outputs": [
    {
     "data": {
      "text/plain": [
       "'jjjjjoooooooooooooooooooooooooooooooooooooocccccccccccccccccccccccccccccccc'"
      ]
     },
     "execution_count": 27,
     "metadata": {},
     "output_type": "execute_result"
    }
   ],
   "source": [
    "bytes.decode(tf.strings.reduce_join([num_to_char(tf.argmax(x)) for x in yhat[1]]).numpy())"
   ]
  },
  {
   "cell_type": "code",
   "execution_count": 28,
   "metadata": {},
   "outputs": [],
   "source": [
    "def scheduler(epoch, lr):\n",
    "    if epoch < 30:\n",
    "        return lr\n",
    "    else:\n",
    "        return lr*tf.math.exp(-0.1)"
   ]
  },
  {
   "cell_type": "code",
   "execution_count": 29,
   "metadata": {},
   "outputs": [],
   "source": [
    "def CTCLoss(y_true,y_pred):\n",
    "    batch_len = tf.cast(tf.shape(y_true)[0],dtype=\"int64\")\n",
    "    input_length = tf.cast(tf.shape(y_pred)[1],dtype=\"int64\")\n",
    "    label_length = tf.cast(tf.shape(y_true)[1],dtype=\"int64\")\n",
    "\n",
    "    input_length = input_length * tf.ones(shape=(batch_len,1),dtype=\"int64\")\n",
    "    label_length = label_length * tf.ones(shape=(batch_len,1),dtype=\"int64\")\n",
    "\n",
    "    loss = tf.keras.backend.ctc_batch_cost(y_true,y_pred,input_length,label_length)\n",
    "    return loss"
   ]
  },
  {
   "cell_type": "code",
   "execution_count": 30,
   "metadata": {},
   "outputs": [],
   "source": [
    "class ProduceExample(tf.keras.callbacks.Callback):\n",
    "    def __init__(self,dataset):\n",
    "        self.dataset = dataset.as_numpy_iterator()\n",
    "\n",
    "    def on_epoch_end(self, epoch, logs=None):\n",
    "        data = self.dataset.next()\n",
    "        yhat = self.model.predict(data[0])\n",
    "        decoded = tf.keras.backend.ctc_decode(yhat,[75,75],greedy=False)[0][0].numpy()\n",
    "        for x in range(len(yhat)):\n",
    "            print('Original:', tf.strings.reduce_join(num_to_char(data[1][x])).numpy().decode('utf-8'))\n",
    "            print('Prediction:', tf.strings.reduce_join(num_to_char(decoded[x])).numpy().decode('utf-8'))\n",
    "            print('~'*100)"
   ]
  },
  {
   "cell_type": "code",
   "execution_count": 31,
   "metadata": {},
   "outputs": [],
   "source": [
    "model.compile(optimizer=Adam(learning_rate=0.0001),loss=CTCLoss)"
   ]
  },
  {
   "cell_type": "code",
   "execution_count": 32,
   "metadata": {},
   "outputs": [],
   "source": [
    "checkpoint_callback = ModelCheckpoint(os.path.join('models','checkpoint'),monitor='loss',save_weights_only=True)"
   ]
  },
  {
   "cell_type": "code",
   "execution_count": 34,
   "metadata": {},
   "outputs": [],
   "source": [
    "schedule_callback = LearningRateScheduler(scheduler)\n",
    "example_callback = ProduceExample(data)"
   ]
  },
  {
   "cell_type": "code",
   "execution_count": null,
   "metadata": {},
   "outputs": [],
   "source": [
    "model.fit(train, validation_data=test, epochs=100, callbacks=[checkpoint_callback, schedule_callback, example_callback])"
   ]
  },
  {
   "cell_type": "code",
   "execution_count": 37,
   "metadata": {},
   "outputs": [
    {
     "name": "stderr",
     "output_type": "stream",
     "text": [
      "Downloading...\n",
      "From (uriginal): https://drive.google.com/uc?id=1vWscXs4Vt0a_1IH1-ct2TCgXAZT-N3_Y\n",
      "From (redirected): https://drive.google.com/uc?id=1vWscXs4Vt0a_1IH1-ct2TCgXAZT-N3_Y&confirm=t&uuid=cbc4e388-fad8-49e7-aa4d-e419788014a0\n",
      "To: c:\\Users\\Aaron\\OneDrive\\Desktop\\github\\lipReadMLModel\\checkpoints.zip\n",
      "100%|██████████| 94.5M/94.5M [01:01<00:00, 1.53MB/s]\n"
     ]
    },
    {
     "data": {
      "text/plain": [
       "['models\\\\checkpoint.index',\n",
       " 'models\\\\__MACOSX/._checkpoint.index',\n",
       " 'models\\\\checkpoint.data-00000-of-00001',\n",
       " 'models\\\\__MACOSX/._checkpoint.data-00000-of-00001',\n",
       " 'models\\\\checkpoint',\n",
       " 'models\\\\__MACOSX/._checkpoint']"
      ]
     },
     "execution_count": 37,
     "metadata": {},
     "output_type": "execute_result"
    }
   ],
   "source": [
    "import gdown\n",
    "url = 'https://drive.google.com/uc?id=1vWscXs4Vt0a_1IH1-ct2TCgXAZT-N3_Y'\n",
    "output = 'checkpoints.zip'\n",
    "gdown.download(url, output, quiet=False)\n",
    "gdown.extractall('checkpoints.zip', 'models')"
   ]
  },
  {
   "cell_type": "code",
   "execution_count": 40,
   "metadata": {},
   "outputs": [
    {
     "ename": "ValueError",
     "evalue": "You are trying to restore a checkpoint from a legacy Keras optimizer into a v2.11+ Optimizer, which can cause errors. Please update the optimizer referenced in your code to be an instance of `tf.keras.optimizers.legacy.Optimizer`, e.g.: `tf.keras.optimizers.legacy.Adam`.",
     "output_type": "error",
     "traceback": [
      "\u001b[1;31m---------------------------------------------------------------------------\u001b[0m",
      "\u001b[1;31mValueError\u001b[0m                                Traceback (most recent call last)",
      "Cell \u001b[1;32mIn[40], line 1\u001b[0m\n\u001b[1;32m----> 1\u001b[0m model\u001b[39m.\u001b[39;49mload_weights(\u001b[39m'\u001b[39;49m\u001b[39mmodels/checkpoint\u001b[39;49m\u001b[39m'\u001b[39;49m)\n",
      "File \u001b[1;32m~\\AppData\\Local\\Packages\\PythonSoftwareFoundation.Python.3.10_qbz5n2kfra8p0\\LocalCache\\local-packages\\Python310\\site-packages\\keras\\utils\\traceback_utils.py:70\u001b[0m, in \u001b[0;36mfilter_traceback.<locals>.error_handler\u001b[1;34m(*args, **kwargs)\u001b[0m\n\u001b[0;32m     67\u001b[0m     filtered_tb \u001b[39m=\u001b[39m _process_traceback_frames(e\u001b[39m.\u001b[39m__traceback__)\n\u001b[0;32m     68\u001b[0m     \u001b[39m# To get the full stack trace, call:\u001b[39;00m\n\u001b[0;32m     69\u001b[0m     \u001b[39m# `tf.debugging.disable_traceback_filtering()`\u001b[39;00m\n\u001b[1;32m---> 70\u001b[0m     \u001b[39mraise\u001b[39;00m e\u001b[39m.\u001b[39mwith_traceback(filtered_tb) \u001b[39mfrom\u001b[39;00m \u001b[39mNone\u001b[39;00m\n\u001b[0;32m     71\u001b[0m \u001b[39mfinally\u001b[39;00m:\n\u001b[0;32m     72\u001b[0m     \u001b[39mdel\u001b[39;00m filtered_tb\n",
      "File \u001b[1;32m~\\AppData\\Local\\Packages\\PythonSoftwareFoundation.Python.3.10_qbz5n2kfra8p0\\LocalCache\\local-packages\\Python310\\site-packages\\keras\\optimizers\\optimizer.py:147\u001b[0m, in \u001b[0;36m_BaseOptimizer._create_or_restore_slot_variable\u001b[1;34m(self, **kwargs)\u001b[0m\n\u001b[0;32m    146\u001b[0m \u001b[39mdef\u001b[39;00m \u001b[39m_create_or_restore_slot_variable\u001b[39m(\u001b[39mself\u001b[39m, \u001b[39m*\u001b[39m\u001b[39m*\u001b[39mkwargs):\n\u001b[1;32m--> 147\u001b[0m     \u001b[39mraise\u001b[39;00m \u001b[39mValueError\u001b[39;00m(\n\u001b[0;32m    148\u001b[0m         \u001b[39m\"\u001b[39m\u001b[39mYou are trying to restore a checkpoint from a legacy Keras \u001b[39m\u001b[39m\"\u001b[39m\n\u001b[0;32m    149\u001b[0m         \u001b[39m\"\u001b[39m\u001b[39moptimizer into a v2.11+ Optimizer, which can cause \u001b[39m\u001b[39m\"\u001b[39m\n\u001b[0;32m    150\u001b[0m         \u001b[39m\"\u001b[39m\u001b[39merrors. Please update the optimizer referenced in your code \u001b[39m\u001b[39m\"\u001b[39m\n\u001b[0;32m    151\u001b[0m         \u001b[39m\"\u001b[39m\u001b[39mto be an instance of \u001b[39m\u001b[39m\"\u001b[39m\n\u001b[0;32m    152\u001b[0m         \u001b[39m\"\u001b[39m\u001b[39m`tf.keras.optimizers.legacy.Optimizer`, e.g.: \u001b[39m\u001b[39m\"\u001b[39m\n\u001b[0;32m    153\u001b[0m         \u001b[39mf\u001b[39m\u001b[39m\"\u001b[39m\u001b[39m`tf.keras.optimizers.legacy.\u001b[39m\u001b[39m{\u001b[39;00m\u001b[39mself\u001b[39m\u001b[39m.\u001b[39m\u001b[39m__class__\u001b[39m\u001b[39m.\u001b[39m\u001b[39m__name__\u001b[39m\u001b[39m}\u001b[39;00m\u001b[39m`.\u001b[39m\u001b[39m\"\u001b[39m\n\u001b[0;32m    154\u001b[0m     )\n",
      "\u001b[1;31mValueError\u001b[0m: You are trying to restore a checkpoint from a legacy Keras optimizer into a v2.11+ Optimizer, which can cause errors. Please update the optimizer referenced in your code to be an instance of `tf.keras.optimizers.legacy.Optimizer`, e.g.: `tf.keras.optimizers.legacy.Adam`."
     ]
    }
   ],
   "source": [
    "model.load_weights('models/checkpoint')"
   ]
  },
  {
   "cell_type": "code",
   "execution_count": null,
   "metadata": {},
   "outputs": [],
   "source": [
    "test_data = test.as_numpy_iterator()"
   ]
  },
  {
   "cell_type": "code",
   "execution_count": null,
   "metadata": {},
   "outputs": [],
   "source": [
    "sample = test_data.next()"
   ]
  },
  {
   "cell_type": "code",
   "execution_count": null,
   "metadata": {},
   "outputs": [],
   "source": [
    "yhat = model.predict(sample[0])"
   ]
  },
  {
   "cell_type": "code",
   "execution_count": null,
   "metadata": {},
   "outputs": [],
   "source": [
    "decoded = tf.keras.backend.ctc_decode(yhat,input_length=[75], greedy=True)[0][0].numpy()"
   ]
  },
  {
   "cell_type": "code",
   "execution_count": null,
   "metadata": {},
   "outputs": [],
   "source": [
    "print('~'*100,'REAL TEXT')\n",
    "[tf.strings.reduce_join([num_to_char(word) for word in sentence]) for sentence in sample[0]]"
   ]
  },
  {
   "cell_type": "code",
   "execution_count": null,
   "metadata": {},
   "outputs": [],
   "source": [
    "print('~'*100,'PREDICTIONS')\n",
    "[tf.strings.reduce_join([num_to_char(word) for word in sentence]) for sentence in decoded]"
   ]
  }
 ],
 "metadata": {
  "kernelspec": {
   "display_name": "Python 3",
   "language": "python",
   "name": "python3"
  },
  "language_info": {
   "codemirror_mode": {
    "name": "ipython",
    "version": 3
   },
   "file_extension": ".py",
   "mimetype": "text/x-python",
   "name": "python",
   "nbconvert_exporter": "python",
   "pygments_lexer": "ipython3",
   "version": "3.10.11"
  },
  "orig_nbformat": 4
 },
 "nbformat": 4,
 "nbformat_minor": 2
}
